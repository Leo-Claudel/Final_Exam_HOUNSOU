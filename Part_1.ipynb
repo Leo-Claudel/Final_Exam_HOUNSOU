{
 "cells": [
  {
   "cell_type": "code",
   "execution_count": 116,
   "id": "b327eab4-d146-45c6-b567-2fbb73412949",
   "metadata": {},
   "outputs": [
    {
     "name": "stdout",
     "output_type": "stream",
     "text": [
      "25\n",
      "36\n",
      "49\n",
      "64\n",
      "81\n",
      "100\n",
      "121\n",
      "144\n",
      "169\n",
      "196\n",
      "225\n",
      "256\n",
      "289\n",
      "324\n",
      "361\n",
      "400\n"
     ]
    }
   ],
   "source": [
    "# TASK 1 : Loop through numbers from 5 to 20\n",
    "for number in range(5, 21):\n",
    "    # The square of the current number\n",
    "    print(number ** 2)"
   ]
  },
  {
   "cell_type": "code",
   "execution_count": 117,
   "id": "15b3ed50-41b9-4bf4-a9a4-6a3b4a5a2a00",
   "metadata": {},
   "outputs": [],
   "source": [
    "# TASK 2 : Function\n",
    "def check_grades(grades):\n",
    "    for grade in grades:\n",
    "        # Check if the grade is 75 or more\n",
    "        if grade >= 75:\n",
    "            print(\"Pass\")  \n",
    "        else:\n",
    "            print(\"No\")"
   ]
  },
  {
   "cell_type": "code",
   "execution_count": 118,
   "id": "735ab202-2da8-4301-9676-46e2c9ba2ac2",
   "metadata": {},
   "outputs": [
    {
     "name": "stdout",
     "output_type": "stream",
     "text": [
      "Pass\n",
      "No\n",
      "Pass\n",
      "No\n",
      "Pass\n"
     ]
    }
   ],
   "source": [
    "check_grades([85, 70, 90, 60, 75])"
   ]
  },
  {
   "cell_type": "code",
   "execution_count": 119,
   "id": "16d3fc8f-7b84-4592-b8f2-01e32321be5e",
   "metadata": {},
   "outputs": [],
   "source": [
    "# Task 3 : \n",
    "def count_vowels(text):\n",
    "    vowel_count = {vowel: 0 for vowel in 'aeiou'}\n",
    "   \n",
    "    text = text.lower()\n",
    "    \n",
    "    for char in text:\n",
    "        if char in vowel_count:  \n",
    "            vowel_count[char] += 1  \n",
    "    \n",
    "    # The total number of vowels\n",
    "    total_vowels = sum(vowel_count.values())\n",
    "    # Total count of vowels\n",
    "    print(f\"Total vowels: {total_vowels}\")\n",
    "    # Number of times each vowel appears\n",
    "    for vowel, count in vowel_count.items():\n",
    "        print(f\"{vowel}: {count}\")\n"
   ]
  },
  {
   "cell_type": "code",
   "execution_count": 130,
   "id": "aec6f79a-c43f-40e4-bc17-87fe519af681",
   "metadata": {},
   "outputs": [
    {
     "name": "stdout",
     "output_type": "stream",
     "text": [
      "Total vowels: 60\n",
      "a: 14\n",
      "e: 16\n",
      "i: 9\n",
      "o: 14\n",
      "u: 7\n"
     ]
    }
   ],
   "source": [
    "count_vowels(\"The pleasure is all mine to attend your Class. I am delighted to be one of your Students… Many thanks for having being available to us. I wish to get an opportuty to have more you … My Regards\")"
   ]
  },
  {
   "cell_type": "code",
   "execution_count": 122,
   "id": "c67f458f-434e-4591-a369-ccb4d96d0763",
   "metadata": {},
   "outputs": [
    {
     "name": "stdin",
     "output_type": "stream",
     "text": [
      "Enter a number (or 'done' to finish):  100\n",
      "Enter a number (or 'done' to finish):  200\n",
      "Enter a number (or 'done' to finish):  300\n",
      "Enter a number (or 'done' to finish):  400\n",
      "Enter a number (or 'done' to finish):  done\n"
     ]
    },
    {
     "name": "stdout",
     "output_type": "stream",
     "text": [
      "Total values entered: 4\n",
      "Average: 250.00\n"
     ]
    }
   ],
   "source": [
    "# task 4\n",
    "numbers = []\n",
    "\n",
    "while True:\n",
    "    user_input = input(\"Enter a number (or 'done' to finish): \")\n",
    "    \n",
    "    if user_input.lower() == \"done\":\n",
    "        break  \n",
    "    \n",
    "    try:\n",
    "        number = float(user_input)\n",
    "        numbers.append(number) \n",
    "\n",
    "    \n",
    "    except ValueError:\n",
    "        print(\"Invalid input. Try again.\") \n",
    "\n",
    "# Calculate the total number of values entered\n",
    "total_numbers = len(numbers)\n",
    "# Calculate the average of the numbers\n",
    "average = sum(numbers) / total_numbers if total_numbers > 0 else 0\n",
    "\n",
    "print(f\"Total values entered: {total_numbers}\")\n",
    "print(f\"Average: {average:.2f}\")\n"
   ]
  },
  {
   "cell_type": "code",
   "execution_count": 123,
   "id": "bbe5c446-6699-42bf-83ac-6c676334a724",
   "metadata": {},
   "outputs": [
    {
     "name": "stdout",
     "output_type": "stream",
     "text": [
      "Alice spent $170\n",
      "Bob spent $100\n",
      "Clara spent $200\n"
     ]
    }
   ],
   "source": [
    "# TASK 5 :\n",
    "purchases = [(\"Alice\", 120), (\"Bob\", 80), (\"Alice\", 50), (\"Bob\", 20), (\"Clara\", 200)]\n",
    "\n",
    "total_purchases = {}\n",
    "\n",
    "for customer, amount in purchases:\n",
    "    if customer in total_purchases:\n",
    "        total_purchases[customer] += amount \n",
    "    else:\n",
    "        total_purchases[customer] = amount  \n",
    "\n",
    "# The amount of money a customer spent in total\n",
    "for customer, total in total_purchases.items():\n",
    "    print(f\"{customer} spent ${total}\")\n"
   ]
  },
  {
   "cell_type": "code",
   "execution_count": 124,
   "id": "8462a818-1a34-4139-ba0c-b21484e22baa",
   "metadata": {},
   "outputs": [
    {
     "name": "stdout",
     "output_type": "stream",
     "text": [
      "Country   Year     Population\n",
      "SVN       2020     2102419.0\n",
      "SVN       2019     2088385.0\n",
      "SVN       2018     2073894.0\n",
      "SVN       2017     2066388.0\n",
      "SVN       2016     2065042.0\n",
      "SVN       2015     2063531.0\n",
      "SVN       2014     2061980.0\n",
      "SVN       2013     2059953.0\n",
      "SVN       2012     2057159.0\n"
     ]
    }
   ],
   "source": [
    "import wbdata  # Import the wbdata package\n",
    "import pandas as pd  # Import pandas for data manipulation\n",
    "\n",
    "# Set the country and indicator for population\n",
    "country = \"SVN\"  # Slovenia's country code\n",
    "indicator = {\"SP.POP.TOTL\": \"Population\"}  # World Bank indicator for total population\n",
    "\n",
    "# Fetch population data from 2012 to 2020\n",
    "data = wbdata.get_dataframe(\n",
    "    indicator,\n",
    "    country=country, \n",
    "    date=(\"2012\", \"2020\"))\n",
    "\n",
    "# Print the results in a readable way\n",
    "\n",
    "print(\"Country   Year     Population\")\n",
    "\n",
    "for year, row in data.iterrows():\n",
    "    \n",
    "    print(country, \"     \", year, \"   \", row['Population'])\n"
   ]
  },
  {
   "cell_type": "code",
   "execution_count": null,
   "id": "007a8c76-4f90-43a5-b3be-43c7307745e1",
   "metadata": {},
   "outputs": [],
   "source": []
  }
 ],
 "metadata": {
  "kernelspec": {
   "display_name": "Python 3 (ipykernel)",
   "language": "python",
   "name": "python3"
  },
  "language_info": {
   "codemirror_mode": {
    "name": "ipython",
    "version": 3
   },
   "file_extension": ".py",
   "mimetype": "text/x-python",
   "name": "python",
   "nbconvert_exporter": "python",
   "pygments_lexer": "ipython3",
   "version": "3.12.7"
  }
 },
 "nbformat": 4,
 "nbformat_minor": 5
}
